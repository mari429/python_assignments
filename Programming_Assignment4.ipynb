{
 "cells": [
  {
   "cell_type": "code",
   "execution_count": 8,
   "id": "5a6dc22c",
   "metadata": {},
   "outputs": [
    {
     "name": "stdout",
     "output_type": "stream",
     "text": [
      "Enter the number to find the factorial- 10\n"
     ]
    },
    {
     "data": {
      "text/plain": [
       "3628800"
      ]
     },
     "execution_count": 8,
     "metadata": {},
     "output_type": "execute_result"
    }
   ],
   "source": [
    "# 1.\tWrite a Python Program to Find the Factorial of a Number?\n",
    "def factorial_num(x):\n",
    "    fact=1\n",
    "    for i in range(1,x+1):\n",
    "        fact = fact*i\n",
    "    return fact\n",
    "fact_num = int(input(\"Enter the number to find the factorial- \"))\n",
    "factorial_num(fact_num)"
   ]
  },
  {
   "cell_type": "code",
   "execution_count": 12,
   "id": "0b9c4b0a",
   "metadata": {},
   "outputs": [
    {
     "name": "stdout",
     "output_type": "stream",
     "text": [
      "Enter the number to diplay the multiplication table- 10\n",
      "1 * 10 = 10\n",
      "2 * 10 = 20\n",
      "3 * 10 = 30\n",
      "4 * 10 = 40\n",
      "5 * 10 = 50\n",
      "6 * 10 = 60\n",
      "7 * 10 = 70\n",
      "8 * 10 = 80\n",
      "9 * 10 = 90\n",
      "10 * 10 = 100\n"
     ]
    }
   ],
   "source": [
    "# 2.\tWrite a Python Program to Display the multiplication Table?\n",
    "x= int(input(\"Enter the number to diplay the multiplication table- \"))\n",
    "for i in range(1, 11):\n",
    "    print (f\"{i} * {x} = {i*x}\")"
   ]
  },
  {
   "cell_type": "code",
   "execution_count": 16,
   "id": "f398332b",
   "metadata": {},
   "outputs": [
    {
     "name": "stdout",
     "output_type": "stream",
     "text": [
      "How many number of Fibonacci numbers to be printed ? -10\n"
     ]
    },
    {
     "data": {
      "text/plain": [
       "[0, 1, 1, 2, 3, 5, 8, 13, 21, 34]"
      ]
     },
     "execution_count": 16,
     "metadata": {},
     "output_type": "execute_result"
    }
   ],
   "source": [
    "# 3.\tWrite a Python Program to Print the Fibonacci sequence?\n",
    "def fibo_list(fib_num):\n",
    "    fib_list = [0,1]\n",
    "    for i in range (fib_num+1):\n",
    "                  e = fib_list[i]+fib_list[i+1]\n",
    "                  fib_list.append(e)\n",
    "    return(fib_list[:fib_num])\n",
    "fibo_num = int(input(\"How many number of Fibonacci numbers to be printed ? -\"))\n",
    "fibo_list(fibo_num)"
   ]
  },
  {
   "cell_type": "code",
   "execution_count": 18,
   "id": "12b44042",
   "metadata": {},
   "outputs": [
    {
     "name": "stdout",
     "output_type": "stream",
     "text": [
      "Enter the number to check if it is Armstrong Number- 9474\n",
      "9474 is an Armstrong number\n"
     ]
    }
   ],
   "source": [
    "# 4.\tWrite a Python Program to Check Armstrong Number?\n",
    "arms_num = input(\"Enter the number to check if it is Armstrong Number- \")\n",
    "arms_num1 = 0\n",
    "for i in arms_num:\n",
    "    if len(arms_num)<=3:\n",
    "        arms_num1 = arms_num1 + int(i)**3\n",
    "    elif len(arms_num)>=4:\n",
    "        arms_num1 = arms_num1 + (int(i)**len(arms_num))\n",
    "if arms_num1 == int(arms_num):\n",
    "    print(f\"{arms_num} is an Armstrong number\")\n",
    "else:\n",
    "    print(f\"{arms_num} is not an Armstrong number\")"
   ]
  },
  {
   "cell_type": "code",
   "execution_count": 14,
   "id": "ede4f885",
   "metadata": {},
   "outputs": [
    {
     "name": "stdout",
     "output_type": "stream",
     "text": [
      "Enter the starting number of the interval- 300\n",
      "Enter the ending number of the interval- 10000\n",
      "370\n",
      "371\n",
      "407\n",
      "1634\n",
      "8208\n",
      "9474\n"
     ]
    }
   ],
   "source": [
    "# 5.\tWrite a Python Program to Find Armstrong Number in an Interval?\n",
    "start_inter = input(\"Enter the starting number of the interval- \")\n",
    "end_inter = input(\"Enter the ending number of the interval- \")\n",
    "for j in range(int(start_inter), int(end_inter)+1):\n",
    "    arms_num1 = 0\n",
    "    for i in str(j):\n",
    "        if len(str(j)) <=3:\n",
    "            arms_num1 = arms_num1 + (int(i)**3)\n",
    "        elif len(str(j)) >=4:\n",
    "            arms_num1 = arms_num1 + (int(i)**len(str(j)))\n",
    "    if arms_num1 == j:\n",
    "        print(arms_num1)\n",
    "\n",
    "        "
   ]
  },
  {
   "cell_type": "code",
   "execution_count": 21,
   "id": "9c69f661",
   "metadata": {},
   "outputs": [
    {
     "name": "stdout",
     "output_type": "stream",
     "text": [
      "Enter the numer to find the sum of natural numbers- 3\n",
      "6\n"
     ]
    }
   ],
   "source": [
    "# 6.\tWrite a Python Program to Find the Sum of Natural Numbers?\n",
    "sum_num = int(input(\"Enter the numer to find the sum of natural numbers- \"))\n",
    "sum_num1 = 0\n",
    "for i in range(1,sum_num+1):\n",
    "    sum_num1+=i\n",
    "print (sum_num1)\n",
    "    "
   ]
  }
 ],
 "metadata": {
  "kernelspec": {
   "display_name": "Python 3 (ipykernel)",
   "language": "python",
   "name": "python3"
  },
  "language_info": {
   "codemirror_mode": {
    "name": "ipython",
    "version": 3
   },
   "file_extension": ".py",
   "mimetype": "text/x-python",
   "name": "python",
   "nbconvert_exporter": "python",
   "pygments_lexer": "ipython3",
   "version": "3.9.12"
  }
 },
 "nbformat": 4,
 "nbformat_minor": 5
}
