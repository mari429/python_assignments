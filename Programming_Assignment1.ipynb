{
 "cells": [
  {
   "cell_type": "code",
   "execution_count": 1,
   "id": "b9ec0c33",
   "metadata": {},
   "outputs": [
    {
     "name": "stdout",
     "output_type": "stream",
     "text": [
      "Hello Python\n"
     ]
    }
   ],
   "source": [
    "# 1.\tWrite a Python program to print \"Hello Python\"?\n",
    "print (\"Hello Python\")"
   ]
  },
  {
   "cell_type": "code",
   "execution_count": 3,
   "id": "10e9c6dd",
   "metadata": {},
   "outputs": [
    {
     "name": "stdout",
     "output_type": "stream",
     "text": [
      "Enter the first number- 55\n",
      "Enter the second numner- 33\n",
      "88\n",
      "1.6666666666666667\n"
     ]
    }
   ],
   "source": [
    "# 2.\tWrite a Python program to do arithmetical operations addition and division.?\n",
    "a = int(input(\"Enter the first number- \"))\n",
    "b = int(input(\"Enter the second numner- \"))\n",
    "print (a+b)\n",
    "print (a/b)"
   ]
  },
  {
   "cell_type": "code",
   "execution_count": 4,
   "id": "c9b89c70",
   "metadata": {},
   "outputs": [
    {
     "name": "stdout",
     "output_type": "stream",
     "text": [
      "Enter the base of the triangle- 10\n",
      "Enter the height of the triangle- 5\n",
      " Area of the traingle is  25.0\n"
     ]
    }
   ],
   "source": [
    "# 3.\tWrite a Python program to find the area of a triangle?\n",
    "base = int(input(\"Enter the base of the triangle- \"))\n",
    "height = int(input(\"Enter the height of the triangle- \"))\n",
    "print (\" Area of the traingle is \", 0.5*base*height)"
   ]
  },
  {
   "cell_type": "code",
   "execution_count": 6,
   "id": "c302d92c",
   "metadata": {},
   "outputs": [
    {
     "name": "stdout",
     "output_type": "stream",
     "text": [
      "Enter the first number- 10\n",
      "Enter the second numner- 20\n",
      "The first number is  20\n",
      "The second number is  10\n"
     ]
    }
   ],
   "source": [
    "# 4.\tWrite a Python program to swap two variables?\n",
    "a = int(input(\"Enter the first number- \"))\n",
    "b = int(input(\"Enter the second numner- \"))\n",
    "a, b = b, a\n",
    "print (\"The first number is \", a)\n",
    "print (\"The second number is \",b)"
   ]
  },
  {
   "cell_type": "code",
   "execution_count": 8,
   "id": "de7b21b3",
   "metadata": {},
   "outputs": [
    {
     "name": "stdout",
     "output_type": "stream",
     "text": [
      "0\n"
     ]
    }
   ],
   "source": [
    "# 5.\tWrite a Python program to generate a random number?\n",
    "import random\n",
    "\n",
    "print(random.randint(0,9))"
   ]
  }
 ],
 "metadata": {
  "kernelspec": {
   "display_name": "Python 3 (ipykernel)",
   "language": "python",
   "name": "python3"
  },
  "language_info": {
   "codemirror_mode": {
    "name": "ipython",
    "version": 3
   },
   "file_extension": ".py",
   "mimetype": "text/x-python",
   "name": "python",
   "nbconvert_exporter": "python",
   "pygments_lexer": "ipython3",
   "version": "3.9.12"
  }
 },
 "nbformat": 4,
 "nbformat_minor": 5
}
