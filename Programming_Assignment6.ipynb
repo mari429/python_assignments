{
 "cells": [
  {
   "cell_type": "code",
   "execution_count": 2,
   "id": "24c8af0d",
   "metadata": {},
   "outputs": [
    {
     "name": "stdout",
     "output_type": "stream",
     "text": [
      "3628800\n"
     ]
    }
   ],
   "source": [
    "# 2.\tWrite a Python Program to Find Factorial of Number Using Recursion?\n",
    "def fact_recur(a):\n",
    "    if a == 0:\n",
    "        return 1\n",
    "    elif a == 1:\n",
    "        return 1\n",
    "    else:\n",
    "        return a*fact_recur(a-1)\n",
    "print(fact_recur(10))"
   ]
  },
  {
   "cell_type": "code",
   "execution_count": 11,
   "id": "ae4d45db",
   "metadata": {},
   "outputs": [
    {
     "name": "stdout",
     "output_type": "stream",
     "text": [
      "Enter the mass of the body in Kg- 50\n",
      "Enter the height of the body in Metres- 1.8\n",
      "Body Mass of Index for mass 50 kg and height 1.8 metres is 15.432098765432098\n"
     ]
    }
   ],
   "source": [
    "# 3.\tWrite a Python Program to calculate your Body Mass Index?\n",
    "mass = int(input(\"Enter the mass of the body in Kg- \"))\n",
    "height = float(input(\"Enter the height of the body in Metres- \"))\n",
    "print (f'Body Mass of Index for mass {mass} kg and height {height} metres is {mass/(height**2)}')"
   ]
  },
  {
   "cell_type": "code",
   "execution_count": 4,
   "id": "19e8bd98",
   "metadata": {},
   "outputs": [
    {
     "name": "stdout",
     "output_type": "stream",
     "text": [
      "2.3\n"
     ]
    }
   ],
   "source": [
    "# 4.\tWrite a Python Program to calculate the natural logarithm of any number?\n",
    "def natural_log(a):\n",
    "    n = 0\n",
    "    while True:\n",
    "        if (2.7182818**n) >= a:\n",
    "            break\n",
    "        n = n+0.000001\n",
    "    return(round(n,2))\n",
    "print(natural_log(10))"
   ]
  },
  {
   "cell_type": "code",
   "execution_count": 3,
   "id": "2f386594",
   "metadata": {},
   "outputs": [
    {
     "name": "stdout",
     "output_type": "stream",
     "text": [
      "225\n"
     ]
    }
   ],
   "source": [
    "# # 5.\tWrite a Python Program for cube sum of first n natural numbers?\n",
    "def cube_sum(a):\n",
    "    if a == 0:\n",
    "        return 1\n",
    "    elif a == 1:\n",
    "        return 1\n",
    "    else:\n",
    "        return (a**3)+cube_sum(a-1)\n",
    "print(cube_sum(5))"
   ]
  },
  {
   "cell_type": "code",
   "execution_count": 2,
   "id": "e25bb8f5",
   "metadata": {},
   "outputs": [
    {
     "name": "stdout",
     "output_type": "stream",
     "text": [
      "225\n"
     ]
    }
   ],
   "source": [
    "# # 5.\tWrite a Python Program for cube sum of first n natural numbers?\n",
    "k = 5\n",
    "m = 0\n",
    "for i in range(1,k+1):\n",
    "    m = m+(i**3)\n",
    "print (m)"
   ]
  },
  {
   "cell_type": "code",
   "execution_count": 5,
   "id": "2bbc489f",
   "metadata": {},
   "outputs": [
    {
     "name": "stdout",
     "output_type": "stream",
     "text": [
      "[0, 1, 1, 2, 3, 5, 8, 13, 21, 34]\n"
     ]
    }
   ],
   "source": [
    "# 1.\tWrite a Python Program to Display Fibonacci Sequence Using Recursion?\n",
    "def fibonac_rec(n):\n",
    "    l = []\n",
    "    def fibo_recur(n):\n",
    "        if n<=0:\n",
    "             print(\"Incorrect Input\")\n",
    "        elif n==1:\n",
    "             return 0\n",
    "        elif n==2:\n",
    "             return 1\n",
    "        else:\n",
    "             return fibo_recur(n-1) + fibo_recur (n-2)\n",
    "    for i in range(1,n+1):\n",
    "        l.append(fibo_recur(i))\n",
    "    return l\n",
    "print(fibonac_rec(10))\n"
   ]
  },
  {
   "cell_type": "code",
   "execution_count": null,
   "id": "1d48d54c",
   "metadata": {},
   "outputs": [],
   "source": []
  }
 ],
 "metadata": {
  "kernelspec": {
   "display_name": "Python 3 (ipykernel)",
   "language": "python",
   "name": "python3"
  },
  "language_info": {
   "codemirror_mode": {
    "name": "ipython",
    "version": 3
   },
   "file_extension": ".py",
   "mimetype": "text/x-python",
   "name": "python",
   "nbconvert_exporter": "python",
   "pygments_lexer": "ipython3",
   "version": "3.9.12"
  }
 },
 "nbformat": 4,
 "nbformat_minor": 5
}
