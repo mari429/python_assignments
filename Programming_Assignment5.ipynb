{
 "cells": [
  {
   "cell_type": "code",
   "execution_count": 3,
   "id": "0b653254",
   "metadata": {},
   "outputs": [
    {
     "name": "stdout",
     "output_type": "stream",
     "text": [
      "7920\n"
     ]
    }
   ],
   "source": [
    "# 1.\tWrite a Python Program to Find LCM?\n",
    "import functools\n",
    "def lcm_nums(*list1):\n",
    "    ''' This function finds the least common multiple of two numbers'''\n",
    "    for i in range(max(list1),list1[0]*list1[1]+1):\n",
    "        if i%list1[0] == 0 and i%list1[1] == 0:\n",
    "            break\n",
    "    return i\n",
    "l1 = [48,55,15,9]\n",
    "print (functools.reduce(lcm_nums,l1))\n"
   ]
  },
  {
   "cell_type": "code",
   "execution_count": 28,
   "id": "2d85355b",
   "metadata": {},
   "outputs": [
    {
     "name": "stdout",
     "output_type": "stream",
     "text": [
      "1\n"
     ]
    }
   ],
   "source": [
    "# 2.\tWrite a Python Program to Find HCF?\n",
    "import functools\n",
    "def hcf_nums(*list3):\n",
    "    ''' This function finds the highest common factor of two numbers'''\n",
    "    list4 =[i for i in range(1,max(list3)) if list3[0]%i == 0 and list3[1]%i == 0]     \n",
    "    return max(list4)\n",
    "l1 = [12,9,32,15]\n",
    "print (functools.reduce(hcf_nums,l1))"
   ]
  },
  {
   "cell_type": "code",
   "execution_count": 6,
   "id": "76fe3ddc",
   "metadata": {},
   "outputs": [
    {
     "name": "stdout",
     "output_type": "stream",
     "text": [
      "3400\n",
      "1111101000\n",
      "25D\n"
     ]
    }
   ],
   "source": [
    "# 3.\tWrite a Python Program to Convert Decimal to Binary, Octal and Hexadecimal?\n",
    "def hex_num(p):\n",
    "    l2=[]\n",
    "    while True:\n",
    "        if p//16 == 0:\n",
    "            if p % 16 >= 10:\n",
    "                l2.append(chr((p % 16)+55))\n",
    "            else:\n",
    "                l2.append(str(p % 16))\n",
    "            break\n",
    "        else:\n",
    "            if p%16 >= 10:\n",
    "                l2.append(chr((p%16)+55))\n",
    "            else:\n",
    "                l2.append(str(p%16))\n",
    "        p = p//16\n",
    "    return (\"\".join(list(reversed(l2))))\n",
    "\n",
    "def bin_num(a):\n",
    "    l=[]\n",
    "    while True:\n",
    "        if a//2 == 0:\n",
    "            l.append(str(a%2))\n",
    "            break\n",
    "        else:\n",
    "            l.append(str(a%2))\n",
    "        a = a//2\n",
    "    return (int(\"\".join(list(reversed(l)))))\n",
    "\n",
    "def oct_num(k):\n",
    "    l1=[]\n",
    "    while True:\n",
    "        if k//8 == 0:\n",
    "            l1.append(str(k%8))\n",
    "            break\n",
    "        else:\n",
    "            l1.append(str(k%8))\n",
    "        k = k//8\n",
    "    return (int(\"\".join(list(reversed(l1)))))\n",
    "\n",
    "print(oct_num(1792))\n",
    "print(bin_num(1000))\n",
    "print(hex_num(605))"
   ]
  },
  {
   "cell_type": "code",
   "execution_count": 44,
   "id": "800290c9",
   "metadata": {},
   "outputs": [
    {
     "name": "stdout",
     "output_type": "stream",
     "text": [
      "Enter the character to find the ascii value- #\n",
      "Ascii value of # is 35\n"
     ]
    }
   ],
   "source": [
    "# 4.\tWrite a Python Program To Find ASCII value of a character?\n",
    "asc_char = input(\"Enter the character to find the ascii value- \")\n",
    "print (f'Ascii value of {asc_char} is {ord(asc_char)}')"
   ]
  },
  {
   "cell_type": "code",
   "execution_count": 4,
   "id": "da85389d",
   "metadata": {},
   "outputs": [
    {
     "name": "stdout",
     "output_type": "stream",
     "text": [
      "Enter the operation you want to do, Type 'A' for addition, 'M' for multiplictaion, 'S' for Subraction or 'D' for Division- m\n",
      "Enter the first number- 10\n",
      "Enter the second number- 4\n",
      "40\n",
      "If you want to continue further opeartion (Y/N)- y\n",
      "Enter the operation you want to do, Type 'A' for addition, 'M' for multiplictaion, 'S' for Subraction or 'D' for Division- d\n",
      "Enter the first number- 8\n",
      "Enter the second number- 4\n",
      "2.0\n",
      "If you want to continue further opeartion (Y/N)- n\n"
     ]
    }
   ],
   "source": [
    "# 5.\tWrite a Python Program to Make a Simple Calculator with 4 basic mathematical operations?\n",
    "def basic_op():\n",
    "    op = input(\"Enter the operation you want to do, Type 'A' for addition, 'M' for multiplictaion, 'S' for Subraction or 'D' for Division- \")\n",
    "    first_num = int(input(\"Enter the first number- \"))\n",
    "    second_num = int(input(\"Enter the second number- \"))\n",
    "    if op == \"A\" or op == \"a\":\n",
    "        print (first_num + second_num)\n",
    "    elif op == \"S\" or op == \"s\":\n",
    "        print (first_num - second_num)\n",
    "    elif op == \"M\" or op == \"m\":\n",
    "        print (first_num * second_num)\n",
    "    elif op == \"D\" or op == \"d\":\n",
    "        print (first_num / second_num)\n",
    "    con = input(\"If you want to continue further opeartion (Y/N)- \")\n",
    "    if con == 'y' or con == \"Y\":\n",
    "        basic_op()\n",
    "basic_op()        "
   ]
  },
  {
   "cell_type": "code",
   "execution_count": null,
   "id": "deb7fbe9",
   "metadata": {},
   "outputs": [],
   "source": []
  },
  {
   "cell_type": "code",
   "execution_count": null,
   "id": "a1077df7",
   "metadata": {},
   "outputs": [],
   "source": []
  },
  {
   "cell_type": "code",
   "execution_count": null,
   "id": "89376e95",
   "metadata": {},
   "outputs": [],
   "source": []
  },
  {
   "cell_type": "code",
   "execution_count": null,
   "id": "637d9a9b",
   "metadata": {},
   "outputs": [],
   "source": []
  }
 ],
 "metadata": {
  "kernelspec": {
   "display_name": "Python 3 (ipykernel)",
   "language": "python",
   "name": "python3"
  },
  "language_info": {
   "codemirror_mode": {
    "name": "ipython",
    "version": 3
   },
   "file_extension": ".py",
   "mimetype": "text/x-python",
   "name": "python",
   "nbconvert_exporter": "python",
   "pygments_lexer": "ipython3",
   "version": "3.9.12"
  }
 },
 "nbformat": 4,
 "nbformat_minor": 5
}
